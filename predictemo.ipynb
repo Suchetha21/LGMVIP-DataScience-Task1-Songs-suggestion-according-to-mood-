{
  "nbformat": 4,
  "nbformat_minor": 0,
  "metadata": {
    "colab": {
      "name": "predictemo",
      "provenance": []
    },
    "kernelspec": {
      "name": "python3",
      "display_name": "Python 3"
    },
    "language_info": {
      "name": "python"
    }
  },
  "cells": [
    {
      "cell_type": "code",
      "source": [
        "from google.colab import drive\n",
        "drive.mount('/content/drive', force_remount=True)"
      ],
      "metadata": {
        "colab": {
          "base_uri": "https://localhost:8080/"
        },
        "id": "AJ6oDNBiRmAK",
        "outputId": "f7644c46-46d9-4a86-e993-3407d63793d0"
      },
      "execution_count": 1,
      "outputs": [
        {
          "output_type": "stream",
          "name": "stdout",
          "text": [
            "Mounted at /content/drive\n"
          ]
        }
      ]
    },
    {
      "cell_type": "code",
      "execution_count": 19,
      "metadata": {
        "id": "J49h5tbQRknt"
      },
      "outputs": [],
      "source": [
        "from keras.models import load_model\n",
        "\n",
        "model=load_model(\"/content/drive/MyDrive/model-010.model\")"
      ]
    },
    {
      "cell_type": "code",
      "source": [
        "from keras.preprocessing import image\n",
        "from keras.preprocessing.image import ImageDataGenerator\n",
        "import numpy as np\n",
        "import matplotlib.pyplot as plt\n",
        "import cv2"
      ],
      "metadata": {
        "id": "4chm_YQMVDhr"
      },
      "execution_count": 20,
      "outputs": []
    },
    {
      "cell_type": "code",
      "source": [
        "#analysis will be done according to the predicted output\n",
        "def emotion_analysis(emotions):\n",
        "  objects = ('neutral', 'happy', 'sad', 'surprise', 'fear', 'angry', 'disgust')\n",
        "  y_pos = np.arange(len(objects))\n",
        "\n",
        "  plt.bar(y_pos, emotions, align='center', alpha=0.5)\n",
        "  plt.xticks(y_pos, objects)\n",
        "  plt.ylabel('percentage')\n",
        "  plt.title('emotion')\n",
        "\n",
        "  res=(max(emotions))\n",
        "  j=0\n",
        "  for i in emotions:\n",
        "    if(i==res):\n",
        "      break\n",
        "    else:\n",
        "      j=j+1\n",
        "  Emotion=str(objects[j])\n",
        "  print('Emotion Detected : ' + Emotion)\n",
        "  print('Accuracy : '+ str(res*100))\n",
        "  plt.show()\n",
        "  return Emotion\n"
      ],
      "metadata": {
        "id": "HD8WZITtVwz-"
      },
      "execution_count": 50,
      "outputs": []
    },
    {
      "cell_type": "code",
      "source": [
        "#cropping of face is done using cascade classifier to predict the emotion\n",
        "def facecrop(image):\n",
        "  facedata = \"/content/drive/MyDrive/haarcascade_frontalface_default.xml\"\n",
        "  cascade = cv2.CascadeClassifier(facedata)\n",
        "  img = cv2.imread(image)\n",
        "  try:\n",
        "    minisize = (img.shape[1],img.shape[0])\n",
        "    miniframe = cv2.resize(img, minisize)\n",
        "    faces = cascade.detectMultiScale(miniframe)\n",
        "    for f in faces:\n",
        "      x, y, w, h = [ v for v in f ]\n",
        "      cv2.rectangle(img, (x,y), (x+w,y+h), (0,255,0), 2)\n",
        "      sub_face = img[y:y+h, x:x+w]\n",
        "      cv2.imwrite('/content/drive/MyDrive/capture.jpg', sub_face)\n",
        "      #print (\"Writing: \" + image)\n",
        "  except Exception as e:\n",
        "    print (e)\n",
        "    #cv2.imshow(image, img)\n"
      ],
      "metadata": {
        "id": "ymuPi44AWV98"
      },
      "execution_count": 51,
      "outputs": []
    },
    {
      "cell_type": "code",
      "source": [
        "#pip install spotipy==2.19.0"
      ],
      "metadata": {
        "id": "yRq9K2uBrRUB"
      },
      "execution_count": 52,
      "outputs": []
    },
    {
      "cell_type": "code",
      "source": [
        "#pip install urllib3==1.26.6"
      ],
      "metadata": {
        "id": "QHBYcVLHrVRD"
      },
      "execution_count": 53,
      "outputs": []
    },
    {
      "cell_type": "code",
      "source": [
        "#pip install requests==2.26.0"
      ],
      "metadata": {
        "id": "wVYCaMUYrj-5"
      },
      "execution_count": 38,
      "outputs": []
    },
    {
      "cell_type": "code",
      "source": [
        "#using spotify api\n",
        "import spotipy \n",
        "from spotipy.oauth2 import SpotifyClientCredentials\n",
        "sp=spotipy.Spotify(auth_manager=SpotifyClientCredentials(client_id=\"0a57e18464f747a29ed1210abd8a785e\", client_secret=\"b197b139197a470784713aa3e3b9f0bc\"))\n",
        "playlist_limit = 5\n",
        "song_limit_per_playlist = 20\n",
        "\n",
        "def songs_by_emotion(emotion):\n",
        "  results = sp.search(q=emotion,type='playlist', limit=playlist_limit)\n",
        "  gs = []\n",
        "  for el in results['playlists']['items']:\n",
        "    temp = {}\n",
        "    temp['playlist_name'] = el['name']\n",
        "    temp['playlist_href'] = el['href']\n",
        "    temp['playlist_id'] = el['id']\n",
        "    temp['playlist_spotify_link'] = el['external_urls']['spotify']\n",
        "    gs.append(temp)\n",
        "  fnl_playlist_songs = gs\n",
        "  for i in range(0,len(gs)):\n",
        "    res = sp.playlist(playlist_id = gs[i]['playlist_id'])\n",
        "    srn = res['tracks']['items'][0:song_limit_per_playlist]\n",
        "    tlist = []\n",
        "    for el in srn:\n",
        "      tlist.append(el['track']['name'])\n",
        "      fnl_playlist_songs[i]['playlist_songs'] = tlist\n",
        "  return fnl_playlist_songs\n",
        "\n"
      ],
      "metadata": {
        "id": "IavzRBN0aWjq"
      },
      "execution_count": 54,
      "outputs": []
    },
    {
      "cell_type": "code",
      "source": [
        "def print_songs(fnl_playlist_songs):\n",
        "  for el in fnl_playlist_songs:\n",
        "    print('playlist_name : ' + str(el['playlist_name']))\n",
        "    print('playlist_href : ' + str(el['playlist_href']))\n",
        "    print('playlist_spotify_link : ' + str(el['playlist_spotify_link']))\n",
        "    print('playlist_songs : ' )\n",
        "    for i in range(0,len(el['playlist_songs'])):\n",
        "      print(str(i+1) + ') ' + el['playlist_songs'][i])\n",
        "    print('-----------------------------------------------')"
      ],
      "metadata": {
        "id": "RfFT17hesBnR"
      },
      "execution_count": 55,
      "outputs": []
    },
    {
      "cell_type": "code",
      "source": [
        "#pip install --upgrade spotipy --user"
      ],
      "metadata": {
        "id": "yuPrhn0zadEy"
      },
      "execution_count": 56,
      "outputs": []
    },
    {
      "cell_type": "code",
      "source": [
        "#predicting emotion from the picture given\n",
        "def predictemo(facepath):\n",
        "  facecrop(facepath)\n",
        "  file = '/content/drive/MyDrive/capture.jpg'\n",
        "  true_image = image.load_img(file)\n",
        "  img = image.load_img(file, grayscale=True, target_size=(64, 64))\n",
        "  x = image.img_to_array(img)\n",
        "  x = np.expand_dims(x, axis = 0)\n",
        "  x /= 255\n",
        "  custom = model.predict(x)\n",
        "  final_Emotion=emotion_analysis(custom[0])\n",
        "  x = np.array(x, 'float32')\n",
        "  x = x.reshape([64, 64]);\n",
        "  plt.gray()\n",
        "  plt.imshow(true_image)\n",
        "  plt.show()\n",
        "  print('\\n------------------------------------------------------------------\\n')\n",
        "  print('Playlists Generated By Using The Emotion : ' + final_Emotion)\n",
        "  print('\\n------------------------------------------------------------------\\n')\n",
        "  final_list = songs_by_emotion(final_Emotion)\n",
        "  print_songs(final_list)"
      ],
      "metadata": {
        "id": "7cb9nrOwXQ0r"
      },
      "execution_count": 58,
      "outputs": []
    },
    {
      "cell_type": "code",
      "source": [
        "#predict image1\n",
        "predictemo('/content/drive/MyDrive/test.jpg')"
      ],
      "metadata": {
        "colab": {
          "base_uri": "https://localhost:8080/",
          "height": 1000
        },
        "id": "iaFHOGyQuULH",
        "outputId": "758e6c3b-3dfb-4f33-954e-92e5d05a2876"
      },
      "execution_count": 59,
      "outputs": [
        {
          "output_type": "stream",
          "name": "stderr",
          "text": [
            "/usr/local/lib/python3.7/dist-packages/keras_preprocessing/image/utils.py:107: UserWarning: grayscale is deprecated. Please use color_mode = \"grayscale\"\n",
            "  warnings.warn('grayscale is deprecated. Please use '\n"
          ]
        },
        {
          "output_type": "stream",
          "name": "stdout",
          "text": [
            "Emotion Detected : happy\n",
            "Accuracy : 91.9270396232605\n"
          ]
        },
        {
          "output_type": "display_data",
          "data": {
            "image/png": "[encoded data removed]",
            "text/plain": [
              "<Figure size 432x288 with 1 Axes>"
            ]
          },
          "metadata": {
            "needs_background": "light"
          }
        },
        {
          "output_type": "display_data",
          "data": {
            "image/png": "[encoded data removed]",
            "text/plain": [
              "<Figure size 432x288 with 1 Axes>"
            ]
          },
          "metadata": {
            "needs_background": "light"
          }
        },
        {
          "output_type": "stream",
          "name": "stdout",
          "text": [
            "\n",
            "------------------------------------------------------------------\n",
            "\n",
            "Playlists Generated By Using The Emotion : happy\n",
            "\n",
            "------------------------------------------------------------------\n",
            "\n",
            "playlist_name : Happy Hits!\n",
            "playlist_href : https://api.spotify.com/v1/playlists/37i9dQZF1DXdPec7aLTmlC\n",
            "playlist_spotify_link : https://open.spotify.com/playlist/37i9dQZF1DXdPec7aLTmlC\n",
            "playlist_songs : \n",
            "1) Shivers\n",
            "2) Follow Me\n",
            "3) Heartbreak Anthem (with David Guetta & Little Mix)\n",
            "4) Sunshine\n",
            "5) Summer of Love (Shawn Mendes & Tainy)\n",
            "6) Anyone\n",
            "7) The Best Days (feat. Tabitha)\n",
            "8) You for Me\n",
            "9) Cloudy Day\n",
            "10) Don’t Wake Me Up\n",
            "11) Run\n",
            "12) Love Me Now (feat. Zoe Wees)\n",
            "13) At Least I Had Fun\n",
            "14) Friends\n",
            "15) Love You Better\n",
            "16) Pick Me Up\n",
            "17) Remember\n",
            "18) Lasting Lover\n",
            "19) Dive\n",
            "20) Good Vibes\n",
            "-----------------------------------------------\n",
            "playlist_name : Happy Beats\n",
            "playlist_href : https://api.spotify.com/v1/playlists/37i9dQZF1DWSf2RDTDayIx\n",
            "playlist_spotify_link : https://open.spotify.com/playlist/37i9dQZF1DWSf2RDTDayIx\n",
            "playlist_songs : \n",
            "1) Call On Me (feat. Georgia Ku)\n",
            "2) Breathe (feat. kaspara)\n",
            "3) Life's Too Short\n",
            "4) Hear Me Say\n",
            "5) Another Life (feat. FLETCHER & Josh Golden)\n",
            "6) Best Is Yet To Come (with Kyle Reynolds)\n",
            "7) Rule The World (feat. ILIRA)\n",
            "8) By Your Side (feat. Tom Grennan)\n",
            "9) Feels Like Love (feat. MIYA MIYA)\n",
            "10) Come Back Home\n",
            "11) Don’t Wake Me Up\n",
            "12) Real Love x Sunchyme (feat. Jess Glynne) [VIP Mash-up]\n",
            "13) Risk It All\n",
            "14) Chasing Stars (feat. James Bay)\n",
            "15) Antibodies - LP Giobbi Remix\n",
            "16) Pick Me Up\n",
            "17) Reaching Out\n",
            "18) Happy Hour\n",
            "19) More Than I Can Say\n",
            "20) Problems\n",
            "-----------------------------------------------\n",
            "playlist_name : Happy songs everyone knows 😄 🙌\n",
            "playlist_href : https://api.spotify.com/v1/playlists/0RH319xCjeU8VyTSqCF6M4\n",
            "playlist_spotify_link : https://open.spotify.com/playlist/0RH319xCjeU8VyTSqCF6M4\n",
            "playlist_songs : \n",
            "1) CAN'T STOP THE FEELING! (from DreamWorks Animation's \"TROLLS\")\n",
            "2) Happy - From \"Despicable Me 2\"\n",
            "3) Marry You\n",
            "4) Golden\n",
            "5) Hey, Soul Sister\n",
            "6) I'm Yours\n",
            "7) Fireflies\n",
            "8) Cake By The Ocean\n",
            "9) Levitating (feat. DaBaby)\n",
            "10) Emotions\n",
            "11) Cheap Thrills\n",
            "12) Rockabye (feat. Sean Paul & Anne-Marie)\n",
            "13) Dynamite\n",
            "14) All About That Bass\n",
            "15) Good Time\n",
            "16) Stronger (What Doesn't Kill You)\n",
            "17) 24K Magic\n",
            "18) Watermelon Sugar\n",
            "19) If I Can't Have You\n",
            "20) Sugar\n",
            "-----------------------------------------------\n",
            "playlist_name : Happy Drive\n",
            "playlist_href : https://api.spotify.com/v1/playlists/37i9dQZF1DX1WSnLRtI26o\n",
            "playlist_spotify_link : https://open.spotify.com/playlist/37i9dQZF1DX1WSnLRtI26o\n",
            "playlist_songs : \n",
            "1) Shivers\n",
            "2) Classic\n",
            "3) Our Song\n",
            "4) Leave Before You Love Me (with Jonas Brothers)\n",
            "5) Levitating\n",
            "6) Love Back\n",
            "7) My Universe\n",
            "8) Sunshine\n",
            "9) Bad Habits\n",
            "10) Like I Can\n",
            "11) Who's In Your Head\n",
            "12) 2002\n",
            "13) STAY (with Justin Bieber)\n",
            "14) Lease On Life\n",
            "15) September\n",
            "16) Watermelon Sugar\n",
            "17) Shut Up and Dance\n",
            "18) Overpass Graffiti\n",
            "19) Style\n",
            "20) Never A Good Time\n",
            "-----------------------------------------------\n",
            "playlist_name : happy music\n",
            "playlist_href : https://api.spotify.com/v1/playlists/0dWheZd3cdhezPTHles6Ms\n",
            "playlist_spotify_link : https://open.spotify.com/playlist/0dWheZd3cdhezPTHles6Ms\n",
            "playlist_songs : \n",
            "1) Feel So Close - Radio Edit\n",
            "2) Summer\n",
            "3) Die Young\n",
            "4) Troublemaker (feat. Flo Rida)\n",
            "5) Waiting For Love\n",
            "6) Trumpets\n",
            "7) Pompeii\n",
            "8) Team\n",
            "9) Don't You Worry Child - Radio Edit\n",
            "10) Latch\n",
            "11) Outside (feat. Ellie Goulding)\n",
            "12) Last Friday Night (T.G.I.F.)\n",
            "13) Without You (feat. Usher)\n",
            "14) For The Night (feat. Lil Baby & DaBaby)\n",
            "15) Demons\n",
            "16) What You Know Bout Love\n",
            "17) overwhelmed\n",
            "18) Some Say - Felix Jaehn Remix\n",
            "19) Lemonade (feat. Gunna, Don Toliver & NAV)\n",
            "20) Stereo Hearts (feat. Adam Levine)\n",
            "-----------------------------------------------\n"
          ]
        }
      ]
    },
    {
      "cell_type": "code",
      "source": [
        "#predict the emotion from image 2\n",
        "predictemo('/content/drive/MyDrive/test1.jpg')"
      ],
      "metadata": {
        "colab": {
          "base_uri": "https://localhost:8080/",
          "height": 1000
        },
        "id": "AE_uYnjFZb_n",
        "outputId": "60d838f4-439c-4575-9640-737abb4678a7"
      },
      "execution_count": 60,
      "outputs": [
        {
          "output_type": "stream",
          "name": "stdout",
          "text": [
            "Emotion Detected : happy\n",
            "Accuracy : 96.22507691383362\n"
          ]
        },
        {
          "output_type": "stream",
          "name": "stderr",
          "text": [
            "/usr/local/lib/python3.7/dist-packages/keras_preprocessing/image/utils.py:107: UserWarning: grayscale is deprecated. Please use color_mode = \"grayscale\"\n",
            "  warnings.warn('grayscale is deprecated. Please use '\n"
          ]
        },
        {
          "output_type": "display_data",
          "data": {
            "image/png": "[encoded data removed]",
            "text/plain": [
              "<Figure size 432x288 with 1 Axes>"
            ]
          },
          "metadata": {
            "needs_background": "light"
          }
        },
        {
          "output_type": "display_data",
          "data": {
            "image/png": "[encoded data removed]",
            "text/plain": [
              "<Figure size 432x288 with 1 Axes>"
            ]
          },
          "metadata": {
            "needs_background": "light"
          }
        },
        {
          "output_type": "stream",
          "name": "stdout",
          "text": [
            "\n",
            "------------------------------------------------------------------\n",
            "\n",
            "Playlists Generated By Using The Emotion : happy\n",
            "\n",
            "------------------------------------------------------------------\n",
            "\n",
            "playlist_name : Happy Hits!\n",
            "playlist_href : https://api.spotify.com/v1/playlists/37i9dQZF1DXdPec7aLTmlC\n",
            "playlist_spotify_link : https://open.spotify.com/playlist/37i9dQZF1DXdPec7aLTmlC\n",
            "playlist_songs : \n",
            "1) Shivers\n",
            "2) Follow Me\n",
            "3) Heartbreak Anthem (with David Guetta & Little Mix)\n",
            "4) Sunshine\n",
            "5) Summer of Love (Shawn Mendes & Tainy)\n",
            "6) Anyone\n",
            "7) The Best Days (feat. Tabitha)\n",
            "8) You for Me\n",
            "9) Cloudy Day\n",
            "10) Don’t Wake Me Up\n",
            "11) Run\n",
            "12) Love Me Now (feat. Zoe Wees)\n",
            "13) At Least I Had Fun\n",
            "14) Friends\n",
            "15) Love You Better\n",
            "16) Pick Me Up\n",
            "17) Remember\n",
            "18) Lasting Lover\n",
            "19) Dive\n",
            "20) Good Vibes\n",
            "-----------------------------------------------\n",
            "playlist_name : Happy Beats\n",
            "playlist_href : https://api.spotify.com/v1/playlists/37i9dQZF1DWSf2RDTDayIx\n",
            "playlist_spotify_link : https://open.spotify.com/playlist/37i9dQZF1DWSf2RDTDayIx\n",
            "playlist_songs : \n",
            "1) Call On Me (feat. Georgia Ku)\n",
            "2) Breathe (feat. kaspara)\n",
            "3) Life's Too Short\n",
            "4) Hear Me Say\n",
            "5) Another Life (feat. FLETCHER & Josh Golden)\n",
            "6) Best Is Yet To Come (with Kyle Reynolds)\n",
            "7) Rule The World (feat. ILIRA)\n",
            "8) By Your Side (feat. Tom Grennan)\n",
            "9) Feels Like Love (feat. MIYA MIYA)\n",
            "10) Come Back Home\n",
            "11) Don’t Wake Me Up\n",
            "12) Real Love x Sunchyme (feat. Jess Glynne) [VIP Mash-up]\n",
            "13) Risk It All\n",
            "14) Chasing Stars (feat. James Bay)\n",
            "15) Antibodies - LP Giobbi Remix\n",
            "16) Pick Me Up\n",
            "17) Reaching Out\n",
            "18) Happy Hour\n",
            "19) More Than I Can Say\n",
            "20) Problems\n",
            "-----------------------------------------------\n",
            "playlist_name : Happy songs everyone knows 😄 🙌\n",
            "playlist_href : https://api.spotify.com/v1/playlists/0RH319xCjeU8VyTSqCF6M4\n",
            "playlist_spotify_link : https://open.spotify.com/playlist/0RH319xCjeU8VyTSqCF6M4\n",
            "playlist_songs : \n",
            "1) CAN'T STOP THE FEELING! (from DreamWorks Animation's \"TROLLS\")\n",
            "2) Happy - From \"Despicable Me 2\"\n",
            "3) Marry You\n",
            "4) Golden\n",
            "5) Hey, Soul Sister\n",
            "6) I'm Yours\n",
            "7) Fireflies\n",
            "8) Cake By The Ocean\n",
            "9) Levitating (feat. DaBaby)\n",
            "10) Emotions\n",
            "11) Cheap Thrills\n",
            "12) Rockabye (feat. Sean Paul & Anne-Marie)\n",
            "13) Dynamite\n",
            "14) All About That Bass\n",
            "15) Good Time\n",
            "16) Stronger (What Doesn't Kill You)\n",
            "17) 24K Magic\n",
            "18) Watermelon Sugar\n",
            "19) If I Can't Have You\n",
            "20) Sugar\n",
            "-----------------------------------------------\n",
            "playlist_name : Happy Drive\n",
            "playlist_href : https://api.spotify.com/v1/playlists/37i9dQZF1DX1WSnLRtI26o\n",
            "playlist_spotify_link : https://open.spotify.com/playlist/37i9dQZF1DX1WSnLRtI26o\n",
            "playlist_songs : \n",
            "1) Shivers\n",
            "2) Classic\n",
            "3) Our Song\n",
            "4) Leave Before You Love Me (with Jonas Brothers)\n",
            "5) Levitating\n",
            "6) Love Back\n",
            "7) My Universe\n",
            "8) Sunshine\n",
            "9) Bad Habits\n",
            "10) Like I Can\n",
            "11) Who's In Your Head\n",
            "12) 2002\n",
            "13) STAY (with Justin Bieber)\n",
            "14) Lease On Life\n",
            "15) September\n",
            "16) Watermelon Sugar\n",
            "17) Shut Up and Dance\n",
            "18) Overpass Graffiti\n",
            "19) Style\n",
            "20) Never A Good Time\n",
            "-----------------------------------------------\n",
            "playlist_name : happy music\n",
            "playlist_href : https://api.spotify.com/v1/playlists/0dWheZd3cdhezPTHles6Ms\n",
            "playlist_spotify_link : https://open.spotify.com/playlist/0dWheZd3cdhezPTHles6Ms\n",
            "playlist_songs : \n",
            "1) Feel So Close - Radio Edit\n",
            "2) Summer\n",
            "3) Die Young\n",
            "4) Troublemaker (feat. Flo Rida)\n",
            "5) Waiting For Love\n",
            "6) Trumpets\n",
            "7) Pompeii\n",
            "8) Team\n",
            "9) Don't You Worry Child - Radio Edit\n",
            "10) Latch\n",
            "11) Outside (feat. Ellie Goulding)\n",
            "12) Last Friday Night (T.G.I.F.)\n",
            "13) Without You (feat. Usher)\n",
            "14) For The Night (feat. Lil Baby & DaBaby)\n",
            "15) Demons\n",
            "16) What You Know Bout Love\n",
            "17) overwhelmed\n",
            "18) Some Say - Felix Jaehn Remix\n",
            "19) Lemonade (feat. Gunna, Don Toliver & NAV)\n",
            "20) Stereo Hearts (feat. Adam Levine)\n",
            "-----------------------------------------------\n"
          ]
        }
      ]
    },
    {
      "cell_type": "code",
      "source": [
        "#predict the emotion from the image 3\n",
        "predictemo('/content/drive/MyDrive/test2.jpg')"
      ],
      "metadata": {
        "colab": {
          "base_uri": "https://localhost:8080/",
          "height": 1000
        },
        "id": "pQOfTdH1vnHa",
        "outputId": "e09e492b-1053-417a-dc83-01966cdb6425"
      },
      "execution_count": 61,
      "outputs": [
        {
          "output_type": "stream",
          "name": "stdout",
          "text": [
            "Emotion Detected : neutral\n",
            "Accuracy : 64.31741118431091\n"
          ]
        },
        {
          "output_type": "stream",
          "name": "stderr",
          "text": [
            "/usr/local/lib/python3.7/dist-packages/keras_preprocessing/image/utils.py:107: UserWarning: grayscale is deprecated. Please use color_mode = \"grayscale\"\n",
            "  warnings.warn('grayscale is deprecated. Please use '\n"
          ]
        },
        {
          "output_type": "display_data",
          "data": {
            "image/png": "[encoded data removed]",
            "text/plain": [
              "<Figure size 432x288 with 1 Axes>"
            ]
          },
          "metadata": {
            "needs_background": "light"
          }
        },
        {
          "output_type": "display_data",
          "data": {
            "image/png": "[encoded data removed]",
            "text/plain": [
              "<Figure size 432x288 with 1 Axes>"
            ]
          },
          "metadata": {
            "needs_background": "light"
          }
        },
        {
          "output_type": "stream",
          "name": "stdout",
          "text": [
            "\n",
            "------------------------------------------------------------------\n",
            "\n",
            "Playlists Generated By Using The Emotion : neutral\n",
            "\n",
            "------------------------------------------------------------------\n",
            "\n",
            "playlist_name : Neutrale Musik\n",
            "playlist_href : https://api.spotify.com/v1/playlists/0kz9A7VDGq60az4j8tLPan\n",
            "playlist_spotify_link : https://open.spotify.com/playlist/0kz9A7VDGq60az4j8tLPan\n",
            "playlist_songs : \n",
            "1) Please Don't Lie\n",
            "2) Can't Hold Us (feat. Ray Dalton)\n",
            "3) Summer Air\n",
            "4) Whistle\n",
            "5) Summer Jam\n",
            "6) Too Close\n",
            "7) One Day / Reckoning Song (Wankelmut Remix) [Radio Edit]\n",
            "8) Thrift Shop (feat. Wanz)\n",
            "9) Scream & Shout\n",
            "10) Hangover\n",
            "11) DJ Got Us Fallin' In Love (feat. Pitbull)\n",
            "12) And We Danced (feat. Ziggy Stardust)\n",
            "13) I Gotta Feeling\n",
            "14) There She Goes\n",
            "15) Good Feeling\n",
            "16) TiK ToK\n",
            "17) Summer Paradise (feat. Sean Paul) - Single Version\n",
            "18) Dynamite\n",
            "19) Moves Like Jagger - Studio Recording From \"The Voice\" Performance\n",
            "20) Alors on danse - Radio Edit\n",
            "-----------------------------------------------\n",
            "playlist_name : Gender Neutral Love Songs \n",
            "playlist_href : https://api.spotify.com/v1/playlists/1yQE8bhK3lDNy5ZOoTO3o4\n",
            "playlist_spotify_link : https://open.spotify.com/playlist/1yQE8bhK3lDNy5ZOoTO3o4\n",
            "playlist_songs : \n",
            "1) Kalmia Kid\n",
            "2) A Shitty Gay Song About You\n",
            "3) Strawberry Mentos\n",
            "4) Kindergarten\n",
            "5) Cloud 9 (feat. Tegan and Sara)\n",
            "6) Pyjama Pants\n",
            "7) Girls In Bikinis\n",
            "8) Mr Loverman\n",
            "9) Sweet Tooth\n",
            "10) sorry haha i fell asleep\n",
            "11) I Want To Be With You\n",
            "12) passing papers\n",
            "13) Home\n",
            "14) Yr the Best!\n",
            "15) Still into You\n",
            "16) no other feeling\n",
            "17) Slacker\n",
            "18) the saddest bop u'v EVER heard\n",
            "19) Someone To You\n",
            "20) Can't Sleep Love\n",
            "-----------------------------------------------\n",
            "playlist_name : Neutral Milk Hotel Radio\n",
            "playlist_href : https://api.spotify.com/v1/playlists/37i9dQZF1E4poFGWCsOAGI\n",
            "playlist_spotify_link : https://open.spotify.com/playlist/37i9dQZF1E4poFGWCsOAGI\n",
            "playlist_songs : \n",
            "1) In the Aeroplane Over the Sea\n",
            "2) Breadcrumb Trail\n",
            "3) Photos from When We Were Young\n",
            "4) Death Grips Is Online\n",
            "5) Between the Bars\n",
            "6) Avery Island / April 1st\n",
            "7) Come In\n",
            "8) Jumping Fences\n",
            "9) Washer\n",
            "10) Gold Day\n",
            "11) The Fever (Aye Aye)\n",
            "12) King of Carrot Flowers Pts. 2 & 3\n",
            "13) So You Wanna Be A Superhero\n",
            "14) Wraith Pinned to the Mist and Other Games\n",
            "15) I'll Believe in Anything\n",
            "16) Cause = Time\n",
            "17) Gravity Rides Everything\n",
            "18) Everything Is\n",
            "19) System Blower\n",
            "20) Goin' Against Your Mind\n",
            "-----------------------------------------------\n",
            "playlist_name : neutral acoustic feels\n",
            "playlist_href : https://api.spotify.com/v1/playlists/2ACH1wiqmz5VGI5XSwILL1\n",
            "playlist_spotify_link : https://open.spotify.com/playlist/2ACH1wiqmz5VGI5XSwILL1\n",
            "playlist_songs : \n",
            "1) Do I Wanna Know?\n",
            "2) Single\n",
            "3) Apocalypse\n",
            "4) Why'd You Only Call Me When You're High?\n",
            "5) 505\n",
            "6) I Wanna Be Yours\n",
            "7) Snap Out Of It\n",
            "8) Sweater Weather\n",
            "9) Afraid\n",
            "10) Cry Baby\n",
            "11) R.I.P. 2 My Youth\n",
            "12) Wires\n",
            "13) Scary Love\n",
            "14) The Beach\n",
            "15) Compass\n",
            "16) Void\n",
            "17) Blue\n",
            "18) Reflections\n",
            "19) Heaven\n",
            "20) Nervous\n",
            "-----------------------------------------------\n",
            "playlist_name : Neutral\n",
            "playlist_href : https://api.spotify.com/v1/playlists/7oLa69CVGyDw8bUYhF6YKv\n",
            "playlist_spotify_link : https://open.spotify.com/playlist/7oLa69CVGyDw8bUYhF6YKv\n",
            "playlist_songs : \n",
            "1) Mushroom Hunting\n",
            "2) Sensei's Theme (Advance Wars 2: Black Hole Rising)\n",
            "3) Cosmic Girl - Remastered\n",
            "4) Pelota\n",
            "5) The Cutdown\n",
            "6) Take Five\n",
            "7) Unsquare Dance\n",
            "8) Virtual Insanity - Remastered\n",
            "9) Alright - Remastered\n",
            "10) Heard a Song\n",
            "11) Break\n",
            "12) Trampoline\n",
            "13) So We Won't Forget\n",
            "14) Mr. White\n",
            "15) Maria También\n",
            "16) Evan Finds the Third Room\n",
            "17) The Number 3\n",
            "18) Naked\n",
            "19) Floral Fury\n",
            "20) Dramatic Fanatic\n",
            "-----------------------------------------------\n"
          ]
        }
      ]
    },
    {
      "cell_type": "code",
      "source": [
        ""
      ],
      "metadata": {
        "id": "cd5lhSFExgnO"
      },
      "execution_count": null,
      "outputs": []
    }
  ]
}