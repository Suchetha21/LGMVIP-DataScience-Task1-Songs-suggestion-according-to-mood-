{
  "nbformat": 4,
  "nbformat_minor": 0,
  "metadata": {
    "colab": {
      "name": "emotion1.ipynb",
      "provenance": []
    },
    "kernelspec": {
      "name": "python3",
      "display_name": "Python 3"
    },
    "language_info": {
      "name": "python"
    }
  },
  "cells": [
    {
      "cell_type": "code",
      "metadata": {
        "colab": {
          "base_uri": "https://localhost:8080/"
        },
        "id": "N0Sp6pHQJCB0",
        "outputId": "121564da-527a-438f-d784-d1aef645753f"
      },
      "source": [
        "from google.colab import drive\n",
        "drive.mount('/content/drive', force_remount=True)"
      ],
      "execution_count": null,
      "outputs": [
        {
          "output_type": "stream",
          "name": "stdout",
          "text": [
            "Mounted at /content/drive\n"
          ]
        }
      ]
    },
    {
      "cell_type": "code",
      "source": [
        "#dataset link: https://www.kaggle.com/msambare/fer2013?select=train"
      ],
      "metadata": {
        "id": "lQu1CbeN8UH3"
      },
      "execution_count": 1,
      "outputs": []
    },
    {
      "cell_type": "code",
      "metadata": {
        "colab": {
          "base_uri": "https://localhost:8080/"
        },
        "id": "R5lEQHIoJHfn",
        "outputId": "b9c85f6b-a145-47f0-ca6e-9faebd0919fb"
      },
      "source": [
        "import cv2,os\n",
        "datapath='/content/drive/MyDrive/emotions/train'\n",
        "categories=os.listdir(datapath)\n",
        "labels=[i for i in range(len(categories))]\n",
        "\n",
        "label_dict=dict(zip(categories,labels))\n",
        "\n",
        "print(labels)\n",
        "print(categories)\n",
        "print(label_dict)"
      ],
      "execution_count": null,
      "outputs": [
        {
          "output_type": "stream",
          "name": "stdout",
          "text": [
            "[0, 1, 2, 3, 4, 5, 6]\n",
            "['neutral', 'happy', 'sad', 'surprise', 'fear', 'angry', 'disgust']\n",
            "{'neutral': 0, 'happy': 1, 'sad': 2, 'surprise': 3, 'fear': 4, 'angry': 5, 'disgust': 6}\n"
          ]
        }
      ]
    },
    {
      "cell_type": "code",
      "metadata": {
        "id": "_pOCGxygJbyc"
      },
      "source": [
        "image_size=64\n",
        "data=[]\n",
        "target=[]\n",
        "\n",
        "for category in categories:\n",
        "    folder_path=os.path.join(datapath,category)\n",
        "    img_names=os.listdir(folder_path)\n",
        "\n",
        "    for img_name in img_names:\n",
        "        img_path=os.path.join(folder_path,img_name)\n",
        "        img=cv2.imread(img_path)\n",
        "\n",
        "        try:\n",
        "            gray=cv2.cvtColor(img,cv2.COLOR_BGR2GRAY)\n",
        "            resized=cv2.resize(gray,(image_size,image_size))\n",
        "            data.append(resized)\n",
        "            target.append(label_dict[category])\n",
        "        except Exception as e:\n",
        "            print(\"Exception :\", e)"
      ],
      "execution_count": null,
      "outputs": []
    },
    {
      "cell_type": "code",
      "metadata": {
        "id": "xX-DaY0XJiCS"
      },
      "source": [
        "import numpy as np\n",
        "\n",
        "data=np.array(data)/255.0\n",
        "data=np.reshape(data,(data.shape[0],image_size,image_size,1))\n",
        "target=np.array(target)\n",
        "\n",
        "from keras.utils import np_utils\n",
        "\n",
        "new_target=np_utils.to_categorical(target)"
      ],
      "execution_count": null,
      "outputs": []
    },
    {
      "cell_type": "code",
      "metadata": {
        "id": "Aqf0aPI4OQ3p"
      },
      "source": [
        "np.save(\"/content/drive/MyDrive/Datanewemo\",data)\n",
        "np.save(\"/content/drive/MyDrive/Targetnewemo\",new_target)"
      ],
      "execution_count": null,
      "outputs": []
    },
    {
      "cell_type": "code",
      "metadata": {
        "id": "67QaOWIPcpEo"
      },
      "source": [
        ""
      ],
      "execution_count": null,
      "outputs": []
    }
  ]
}