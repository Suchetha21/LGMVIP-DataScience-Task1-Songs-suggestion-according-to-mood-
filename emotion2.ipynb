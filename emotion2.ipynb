{
  "nbformat": 4,
  "nbformat_minor": 0,
  "metadata": {
    "accelerator": "TPU",
    "colab": {
      "name": "emotion2.ipynb",
      "provenance": [],
      "collapsed_sections": []
    },
    "kernelspec": {
      "display_name": "Python 3",
      "name": "python3"
    },
    "language_info": {
      "name": "python"
    }
  },
  "cells": [
    {
      "cell_type": "code",
      "metadata": {
        "colab": {
          "base_uri": "https://localhost:8080/"
        },
        "id": "N0Sp6pHQJCB0",
        "outputId": "744d024b-2e15-4840-c990-54482b7c2b41"
      },
      "source": [
        "from google.colab import drive\n",
        "drive.mount('/content/drive', force_remount=True)"
      ],
      "execution_count": null,
      "outputs": [
        {
          "output_type": "stream",
          "name": "stdout",
          "text": [
            "Mounted at /content/drive\n"
          ]
        }
      ]
    },
    {
      "cell_type": "code",
      "metadata": {
        "id": "1VAII8XBPBFq"
      },
      "source": [
        "import numpy as np\n",
        "\n",
        "data=np.load(\"/content/drive/MyDrive/Datanewemo.npy\")\n",
        "target=np.load(\"/content/drive/MyDrive/Targetnewemo.npy\")"
      ],
      "execution_count": null,
      "outputs": []
    },
    {
      "cell_type": "code",
      "metadata": {
        "colab": {
          "base_uri": "https://localhost:8080/"
        },
        "id": "tEXuQZCK679g",
        "outputId": "b4a3711e-506d-4e43-d2dd-55c358f083cf"
      },
      "source": [
        "data.shape"
      ],
      "execution_count": null,
      "outputs": [
        {
          "output_type": "execute_result",
          "data": {
            "text/plain": [
              "(28709, 64, 64, 1)"
            ]
          },
          "metadata": {},
          "execution_count": 3
        }
      ]
    },
    {
      "cell_type": "code",
      "metadata": {
        "id": "YbE25HM_Qd-L"
      },
      "source": [
        "import tensorflow as tf\n",
        "from tensorflow.keras.models import Sequential\n",
        "from tensorflow.keras.layers import Dense,Activation,Flatten,Dropout\n",
        "from tensorflow.keras.layers import Conv2D,MaxPooling2D\n",
        "from tensorflow.keras.callbacks import ModelCheckpoint\n",
        "\n",
        "model=tf.keras.models.Sequential([tf.keras.layers.Conv2D(512,(3,3),activation='relu',input_shape=data.shape[1:]),\n",
        "                                  tf.keras.layers.MaxPool2D(2,2),\n",
        "                                  #\n",
        "                                  tf.keras.layers.Conv2D(128,(3,3),activation='relu'),\n",
        "                                  tf.keras.layers.MaxPool2D(2,2),\n",
        "                                  #\n",
        "                                  tf.keras.layers.Conv2D(64,(3,3),activation='relu'),\n",
        "                                  tf.keras.layers.MaxPool2D(2,2),\n",
        "                                  #\n",
        "                                  tf.keras.layers.Conv2D(64,(3,3),activation='relu'),\n",
        "                                  tf.keras.layers.MaxPool2D(2,2),\n",
        "                                  tf.keras.layers.Flatten(),\n",
        "                                  ##\n",
        "                                  tf.keras.layers.Dense(1024,activation='relu'),\n",
        "                                  ##\n",
        "                                  tf.keras.layers.Dense(512,activation='relu'),\n",
        "                                  ##\n",
        "                                  tf.keras.layers.Dropout(0.5),\n",
        "                                  tf.keras.layers.Dense(7,activation='softmax')\n",
        "]\n",
        ")\n",
        "\n",
        "\n",
        "model.compile(loss='categorical_crossentropy',optimizer='adam',metrics=['accuracy'])"
      ],
      "execution_count": null,
      "outputs": []
    },
    {
      "cell_type": "code",
      "metadata": {
        "id": "rXeApYbeShny"
      },
      "source": [
        "from sklearn.model_selection import train_test_split\n",
        "X_train,X_test,Y_train,Y_test=train_test_split(data,target,test_size=0.4)"
      ],
      "execution_count": null,
      "outputs": []
    },
    {
      "cell_type": "code",
      "metadata": {
        "colab": {
          "base_uri": "https://localhost:8080/"
        },
        "id": "LhMyifXuSvWD",
        "outputId": "86513630-7162-45cf-d96e-19fccb03d7f1"
      },
      "source": [
        "model.summary()"
      ],
      "execution_count": null,
      "outputs": [
        {
          "output_type": "stream",
          "name": "stdout",
          "text": [
            "Model: \"sequential_1\"\n",
            "_________________________________________________________________\n",
            " Layer (type)                Output Shape              Param #   \n",
            "=================================================================\n",
            " conv2d_4 (Conv2D)           (None, 62, 62, 512)       5120      \n",
            "                                                                 \n",
            " max_pooling2d_4 (MaxPooling  (None, 31, 31, 512)      0         \n",
            " 2D)                                                             \n",
            "                                                                 \n",
            " conv2d_5 (Conv2D)           (None, 29, 29, 128)       589952    \n",
            "                                                                 \n",
            " max_pooling2d_5 (MaxPooling  (None, 14, 14, 128)      0         \n",
            " 2D)                                                             \n",
            "                                                                 \n",
            " conv2d_6 (Conv2D)           (None, 12, 12, 64)        73792     \n",
            "                                                                 \n",
            " max_pooling2d_6 (MaxPooling  (None, 6, 6, 64)         0         \n",
            " 2D)                                                             \n",
            "                                                                 \n",
            " conv2d_7 (Conv2D)           (None, 4, 4, 64)          36928     \n",
            "                                                                 \n",
            " max_pooling2d_7 (MaxPooling  (None, 2, 2, 64)         0         \n",
            " 2D)                                                             \n",
            "                                                                 \n",
            " flatten_1 (Flatten)         (None, 256)               0         \n",
            "                                                                 \n",
            " dense_3 (Dense)             (None, 1024)              263168    \n",
            "                                                                 \n",
            " dense_4 (Dense)             (None, 512)               524800    \n",
            "                                                                 \n",
            " dropout_1 (Dropout)         (None, 512)               0         \n",
            "                                                                 \n",
            " dense_5 (Dense)             (None, 7)                 3591      \n",
            "                                                                 \n",
            "=================================================================\n",
            "Total params: 1,497,351\n",
            "Trainable params: 1,497,351\n",
            "Non-trainable params: 0\n",
            "_________________________________________________________________\n"
          ]
        }
      ]
    },
    {
      "cell_type": "code",
      "metadata": {
        "colab": {
          "base_uri": "https://localhost:8080/"
        },
        "id": "BGbjCfL2Tf3z",
        "outputId": "408b5233-b60b-4b4b-dd66-6ae4a19da6c6"
      },
      "source": [
        "X_train.shape"
      ],
      "execution_count": null,
      "outputs": [
        {
          "output_type": "execute_result",
          "data": {
            "text/plain": [
              "(17225, 64, 64, 1)"
            ]
          },
          "metadata": {},
          "execution_count": 13
        }
      ]
    },
    {
      "cell_type": "code",
      "metadata": {
        "colab": {
          "base_uri": "https://localhost:8080/"
        },
        "id": "o9NRDrV4Szjo",
        "outputId": "95926aca-8b1a-4428-a998-1a407c91550c"
      },
      "source": [
        "from tensorflow.keras.callbacks import ModelCheckpoint\n",
        "checkpoint=ModelCheckpoint('/content/drive/MyDrive/model-{epoch:03d}.model',monitor='val_loss',verbose=0,save_best_only=True,mode='auto')\n",
        "history=model.fit(X_train,Y_train,epochs=30,callbacks=[checkpoint],validation_split=0.2)"
      ],
      "execution_count": null,
      "outputs": [
        {
          "output_type": "stream",
          "name": "stdout",
          "text": [
            "Epoch 1/30\n",
            "431/431 [==============================] - ETA: 0s - loss: 1.8200 - accuracy: 0.2439INFO:tensorflow:Assets written to: /content/drive/MyDrive/model-001.model/assets\n",
            "431/431 [==============================] - 1226s 3s/step - loss: 1.8200 - accuracy: 0.2439 - val_loss: 1.7736 - val_accuracy: 0.2322\n",
            "Epoch 2/30\n",
            "431/431 [==============================] - ETA: 0s - loss: 1.7025 - accuracy: 0.3086INFO:tensorflow:Assets written to: /content/drive/MyDrive/model-002.model/assets\n",
            "431/431 [==============================] - 1239s 3s/step - loss: 1.7025 - accuracy: 0.3086 - val_loss: 1.6118 - val_accuracy: 0.3713\n",
            "Epoch 3/30\n",
            "431/431 [==============================] - ETA: 0s - loss: 1.5788 - accuracy: 0.3792INFO:tensorflow:Assets written to: /content/drive/MyDrive/model-003.model/assets\n",
            "431/431 [==============================] - 1241s 3s/step - loss: 1.5788 - accuracy: 0.3792 - val_loss: 1.5078 - val_accuracy: 0.4113\n",
            "Epoch 4/30\n",
            "431/431 [==============================] - ETA: 0s - loss: 1.4907 - accuracy: 0.4160INFO:tensorflow:Assets written to: /content/drive/MyDrive/model-004.model/assets\n",
            "431/431 [==============================] - 1241s 3s/step - loss: 1.4907 - accuracy: 0.4160 - val_loss: 1.4878 - val_accuracy: 0.4308\n",
            "Epoch 5/30\n",
            "431/431 [==============================] - ETA: 0s - loss: 1.4221 - accuracy: 0.4424INFO:tensorflow:Assets written to: /content/drive/MyDrive/model-005.model/assets\n",
            "431/431 [==============================] - 1216s 3s/step - loss: 1.4221 - accuracy: 0.4424 - val_loss: 1.4655 - val_accuracy: 0.4522\n",
            "Epoch 6/30\n",
            "431/431 [==============================] - ETA: 0s - loss: 1.3627 - accuracy: 0.4705INFO:tensorflow:Assets written to: /content/drive/MyDrive/model-006.model/assets\n",
            "431/431 [==============================] - 1216s 3s/step - loss: 1.3627 - accuracy: 0.4705 - val_loss: 1.3765 - val_accuracy: 0.4595\n",
            "Epoch 7/30\n",
            "431/431 [==============================] - 1224s 3s/step - loss: 1.3041 - accuracy: 0.4984 - val_loss: 1.3952 - val_accuracy: 0.4761\n",
            "Epoch 8/30\n",
            "431/431 [==============================] - ETA: 0s - loss: 1.2389 - accuracy: 0.5217INFO:tensorflow:Assets written to: /content/drive/MyDrive/model-008.model/assets\n",
            "431/431 [==============================] - 1219s 3s/step - loss: 1.2389 - accuracy: 0.5217 - val_loss: 1.3538 - val_accuracy: 0.4708\n",
            "Epoch 9/30\n",
            "431/431 [==============================] - 1222s 3s/step - loss: 1.1792 - accuracy: 0.5507 - val_loss: 1.3858 - val_accuracy: 0.4824\n",
            "Epoch 10/30\n",
            "431/431 [==============================] - ETA: 0s - loss: 1.1073 - accuracy: 0.5781INFO:tensorflow:Assets written to: /content/drive/MyDrive/model-010.model/assets\n",
            "431/431 [==============================] - 1225s 3s/step - loss: 1.1073 - accuracy: 0.5781 - val_loss: 1.3372 - val_accuracy: 0.4952\n",
            "Epoch 11/30\n",
            "431/431 [==============================] - 1222s 3s/step - loss: 1.0332 - accuracy: 0.6033 - val_loss: 1.3914 - val_accuracy: 0.5039\n",
            "Epoch 12/30\n",
            "431/431 [==============================] - 1223s 3s/step - loss: 0.9345 - accuracy: 0.6425 - val_loss: 1.4663 - val_accuracy: 0.4897\n",
            "Epoch 13/30\n",
            "431/431 [==============================] - 1223s 3s/step - loss: 0.8443 - accuracy: 0.6737 - val_loss: 1.5729 - val_accuracy: 0.4940\n",
            "Epoch 14/30\n",
            "431/431 [==============================] - 1224s 3s/step - loss: 0.7511 - accuracy: 0.7189 - val_loss: 1.6331 - val_accuracy: 0.5010\n",
            "Epoch 15/30\n",
            "431/431 [==============================] - 1223s 3s/step - loss: 0.6443 - accuracy: 0.7586 - val_loss: 1.7986 - val_accuracy: 0.4906\n",
            "Epoch 16/30\n",
            "431/431 [==============================] - 1224s 3s/step - loss: 0.5624 - accuracy: 0.7903 - val_loss: 2.0140 - val_accuracy: 0.4868\n",
            "Epoch 17/30\n",
            "431/431 [==============================] - 1225s 3s/step - loss: 0.4790 - accuracy: 0.8173 - val_loss: 2.2683 - val_accuracy: 0.4705\n",
            "Epoch 18/30\n",
            "431/431 [==============================] - 1229s 3s/step - loss: 0.4200 - accuracy: 0.8450 - val_loss: 2.4684 - val_accuracy: 0.4830\n",
            "Epoch 19/30\n",
            "431/431 [==============================] - 1218s 3s/step - loss: 0.3649 - accuracy: 0.8701 - val_loss: 2.5773 - val_accuracy: 0.4792\n",
            "Epoch 20/30\n",
            "431/431 [==============================] - 1225s 3s/step - loss: 0.2967 - accuracy: 0.8935 - val_loss: 2.8809 - val_accuracy: 0.4853\n",
            "Epoch 21/30\n",
            "431/431 [==============================] - 1222s 3s/step - loss: 0.2762 - accuracy: 0.9002 - val_loss: 3.0879 - val_accuracy: 0.4810\n",
            "Epoch 22/30\n",
            "431/431 [==============================] - 1220s 3s/step - loss: 0.2480 - accuracy: 0.9133 - val_loss: 3.4363 - val_accuracy: 0.4842\n",
            "Epoch 23/30\n",
            "431/431 [==============================] - 1226s 3s/step - loss: 0.2340 - accuracy: 0.9160 - val_loss: 3.4418 - val_accuracy: 0.4729\n",
            "Epoch 24/30\n",
            "431/431 [==============================] - 1229s 3s/step - loss: 0.1963 - accuracy: 0.9313 - val_loss: 3.3731 - val_accuracy: 0.4813\n",
            "Epoch 25/30\n",
            "431/431 [==============================] - 1239s 3s/step - loss: 0.1840 - accuracy: 0.9373 - val_loss: 3.5361 - val_accuracy: 0.4743\n",
            "Epoch 26/30\n",
            "431/431 [==============================] - 1228s 3s/step - loss: 0.1724 - accuracy: 0.9411 - val_loss: 3.8465 - val_accuracy: 0.4949\n",
            "Epoch 27/30\n",
            "431/431 [==============================] - 1234s 3s/step - loss: 0.1631 - accuracy: 0.9444 - val_loss: 3.9417 - val_accuracy: 0.4833\n",
            "Epoch 28/30\n",
            "431/431 [==============================] - 1233s 3s/step - loss: 0.1601 - accuracy: 0.9452 - val_loss: 3.8941 - val_accuracy: 0.4737\n",
            "Epoch 29/30\n",
            "431/431 [==============================] - 1237s 3s/step - loss: 0.1339 - accuracy: 0.9539 - val_loss: 4.5148 - val_accuracy: 0.4650\n",
            "Epoch 30/30\n",
            "431/431 [==============================] - 1229s 3s/step - loss: 0.1491 - accuracy: 0.9501 - val_loss: 4.4480 - val_accuracy: 0.4900\n"
          ]
        }
      ]
    },
    {
      "cell_type": "code",
      "metadata": {
        "colab": {
          "base_uri": "https://localhost:8080/",
          "height": 279
        },
        "id": "wsSx6kl7S_hr",
        "outputId": "66a0ca5d-aea1-4058-9f4b-7402425a6b47"
      },
      "source": [
        "from matplotlib import pyplot as plt\n",
        "\n",
        "plt.plot(history.history['loss'],'r',label='training loss')\n",
        "plt.plot(history.history['val_loss'],'b',label='validation loss')\n",
        "plt.xlabel('epoch')\n",
        "plt.ylabel('loss')\n",
        "plt.legend()\n",
        "plt.show()"
      ],
      "execution_count": null,
      "outputs": [
        {
          "output_type": "display_data",
          "data": {
            "image/png": "[encoded data removed]",
            "text/plain": [
              "<Figure size 432x288 with 1 Axes>"
            ]
          },
          "metadata": {
            "needs_background": "light"
          }
        }
      ]
    },
    {
      "cell_type": "code",
      "metadata": {
        "colab": {
          "base_uri": "https://localhost:8080/",
          "height": 279
        },
        "id": "lGH5wWbDVfcy",
        "outputId": "072e6bb0-5777-40ce-82f5-6bae1664c2b8"
      },
      "source": [
        "plt.plot(history.history['accuracy'],'r',label='training accuracy')\n",
        "plt.plot(history.history['val_accuracy'],'b',label='validation accuracy')\n",
        "plt.xlabel('epoch')\n",
        "plt.ylabel('accuracy')\n",
        "plt.legend()\n",
        "plt.show()"
      ],
      "execution_count": null,
      "outputs": [
        {
          "output_type": "display_data",
          "data": {
            "image/png": "[encoded data removed]",
            "text/plain": [
              "<Figure size 432x288 with 1 Axes>"
            ]
          },
          "metadata": {
            "needs_background": "light"
          }
        }
      ]
    },
    {
      "cell_type": "code",
      "metadata": {
        "colab": {
          "base_uri": "https://localhost:8080/"
        },
        "id": "xVhuBXUVVfoi",
        "outputId": "2725b76c-788f-4d10-a01f-2de61a2c2c3e"
      },
      "source": [
        "print(model.evaluate(X_test,Y_test))"
      ],
      "execution_count": null,
      "outputs": [
        {
          "output_type": "stream",
          "name": "stdout",
          "text": [
            "359/359 [==============================] - 261s 726ms/step - loss: 4.6035 - accuracy: 0.4725\n",
            "[4.60347843170166, 0.47248345613479614]\n"
          ]
        }
      ]
    },
    {
      "cell_type": "code",
      "metadata": {
        "id": "Zh4tUBPqwcQT"
      },
      "source": [
        ""
      ],
      "execution_count": null,
      "outputs": []
    }
  ]
}